{
 "cells": [
  {
   "cell_type": "markdown",
   "metadata": {},
   "source": [
    "# Internationalization & Localization in Python\n",
    "\n",
    "In this post, we'll look briefly into Internationalization and Localization in Python using the `gettext` library.  Localization and Internationalization, often spelt I18N and L10N respectively, while somewhat related, are distinct.  An overly simplistic comparison would be that I18N often is done by engineers from the beginning by adding support for foreign language scripts, different date formats, number formatting... which in turn allows the program to be localized.  Localization can include translation, or even how the the product is preceived in a different regions, countries, etc.\n",
    "\n",
    "There's a somewhat humorous story \n",
    "\n",
    "For our purposes, we'll be laying some internationalization infrastructure to allow our program to be localized.  We'll be localizing our program into Spanish... and looking at Hebrew.\n",
    "\n",
    "The simple program is called `greeting.py` and prints out a few lines of text."
   ]
  },
  {
   "cell_type": "code",
   "execution_count": 4,
   "metadata": {},
   "outputs": [
    {
     "name": "stdout",
     "output_type": "stream",
     "text": [
      "Hi\n",
      "What's up?\n",
      "I am 25 years old!\n",
      "\n",
      "\n"
     ]
    }
   ],
   "source": [
    "def greet():\n",
    "    'Prints out greeting message.'\n",
    "    age = 25\n",
    "    print('Hi')\n",
    "    print(\"What's up?\")\n",
    "    print('I am %s years old!' % (age))\n",
    "    print('\\n')\n",
    "\n",
    "greet()"
   ]
  },
  {
   "cell_type": "markdown",
   "metadata": {},
   "source": [
    "Simple enough. Let's highlight the procedure we'll need to follow.\n",
    "\n",
    "1. Mark strings which should be translated as 'translatable'.\n",
    "2. Extract translatable strings.\n",
    "3. Translate strings\n",
    "4. Use `gettext` to 'get' string translations.\n",
    "\n",
    "### 1. Marking Translatable Strings\n",
    "\n",
    "So translatable strings are essentially user facing strings. Strings such a comments or variables should generally be left alone. To mark a string as translatable, we place the function `_()` around it from `gettext`.  So we `import gettext` and install `greeting`.\n"
   ]
  },
  {
   "cell_type": "markdown",
   "metadata": {},
   "source": [
    "```\n",
    "import gettext\n",
    "gettext.install('greeting')\n",
    "\n",
    "def greet():\n",
    "    'Prints out greeting message.'\n",
    "    age = 25\n",
    "    print(_('Hi'))\n",
    "    print(_(\"What's up?\"))\n",
    "    print(_('I am %s years old!' % (age)))\n",
    "    print(_('\\n'))\n",
    "\n",
    "greet()\n",
    "```"
   ]
  },
  {
   "cell_type": "markdown",
   "metadata": {},
   "source": [
    "### Extracting Translatable Strings\n",
    "At this point we there's no change to the program's output.  Great! Now we can extract each of the translatable strings.\n",
    "Part of the Standard Python Library, we'll use the following bash/cmd command to extract all the strings.\n",
    "\n",
    "`C:\\Users\\$USER\\Anaconda3\\Tools\\i18n\\pygettext.py -d greeting greeting.py`\n",
    "\n",
    "Of course your location of `pygettext.py` will be different, but you can tell, it's located in the `Tools\\i18n` folder of your Python installation. After running the command you'll see a new new file: `greeting.pot`  Examening the file, we see a header, metadata, and the extracted strings, with a blank string below.  It's these blank strings where we set the translations."
   ]
  },
  {
   "cell_type": "markdown",
   "metadata": {},
   "source": [
    "```\n",
    "# SOME DESCRIPTIVE TITLE.\n",
    "# Copyright (C) YEAR ORGANIZATION\n",
    "# FIRST AUTHOR <EMAIL@ADDRESS>, YEAR.\n",
    "#\n",
    "msgid \"\"\n",
    "msgstr \"\"\n",
    "\"Project-Id-Version: PACKAGE VERSION\\n\"\n",
    "\"POT-Creation-Date: 2019-11-23 15:31-0800\\n\"\n",
    "\"PO-Revision-Date: YEAR-MO-DA HO:MI+ZONE\\n\"\n",
    "\"Last-Translator: FULL NAME <EMAIL@ADDRESS>\\n\"\n",
    "\"Language-Team: LANGUAGE <LL@li.org>\\n\"\n",
    "\"MIME-Version: 1.0\\n\"\n",
    "\"Content-Type: text/plain; charset=cp1252\\n\"\n",
    "\"Content-Transfer-Encoding: 8bit\\n\"\n",
    "\"Generated-By: pygettext.py 1.5\\n\"\n",
    "\n",
    "\n",
    "#: greeting.py:7\n",
    "msgid \"Hi\"\n",
    "msgstr \"\"\n",
    "\n",
    "#: greeting.py:8\n",
    "msgid \"What's up?\"\n",
    "msgstr \"\"\n",
    "\n",
    "#: greeting.py:9\n",
    "msgid \"I am %s years old!\"\n",
    "msgstr \"\"\n",
    "\n",
    "\n",
    "```"
   ]
  },
  {
   "cell_type": "markdown",
   "metadata": {},
   "source": [
    "### 2. Translating Strings\n",
    "\n",
    "Now this file, `greeting.pot` would be handed off to a translator to provide the appropriate translations.  It's important to note `charset=cp1252\\n\"`. `cp1252` needs to be changed to `utf-8` to avoid rendering issues of alternative scripts. I won't be filling in any of the other metadata for this example.  Since our example is small we can just supply the appropriate translations, but on a larger project, a translator might use translations editor such as [Poedit](https://poedit.net/).\n",
    "\n",
    "> Note how `%s` is used in the translation and strings.  [Python F-Strings](https://realpython.com/python-f-strings/) are not supported yet."
   ]
  },
  {
   "cell_type": "markdown",
   "metadata": {},
   "source": [
    "```\n",
    "# SOME DESCRIPTIVE TITLE.\n",
    "# Copyright (C) YEAR ORGANIZATION\n",
    "# FIRST AUTHOR <EMAIL@ADDRESS>, YEAR.\n",
    "#\n",
    "msgid \"\"\n",
    "msgstr \"\"\n",
    "\"Project-Id-Version: PACKAGE VERSION\\n\"\n",
    "\"POT-Creation-Date: 2019-11-23 09:54-0800\\n\"\n",
    "\"PO-Revision-Date: YEAR-MO-DA HO:MI+ZONE\\n\"\n",
    "\"Last-Translator: FULL NAME <EMAIL@ADDRESS>\\n\"\n",
    "\"Language-Team: LANGUAGE <LL@li.org>\\n\"\n",
    "\"MIME-Version: 1.0\\n\"\n",
    "\"Content-Type: text/plain; charset=utf-8\\n\"\n",
    "\"Content-Transfer-Encoding: 8bit\\n\"\n",
    "\"Generated-By: pygettext.py 1.5\\n\"\n",
    "\n",
    "\n",
    "#: greeting.py:7\n",
    "msgid \"Hi\"\n",
    "msgstr \"Hola\"\n",
    "\n",
    "#: greeting.py:8\n",
    "msgid \"What's up?\"\n",
    "msgstr \"¿Qué tal?\"\n",
    "\n",
    "#: greeting.py:9\n",
    "msgid \"I am %s years old!\"\n",
    "msgstr \"¡Tengo %s años!\"\n",
    "\n",
    "```"
   ]
  },
  {
   "cell_type": "markdown",
   "metadata": {},
   "source": [
    "#### Language Tags\n",
    "\n",
    "The next step requires a litte knowledge of [language tags](https://www.w3.org/International/articles/language-tags/).\n",
    "A language tag is a two (sometimes three) letter designation ([ISO 639-1](https://en.wikipedia.org/wiki/List_of_ISO_639-1_codes)) used to identify a language.  For example, 'en' is stands for English while, 'es' is Spanish.  However, for finer gradation if you needed to localize for two regions such as English from the UK vs the English from the US, the local or region code can be used.  For example, en-GB (English of Great Britian) vs en-US. For our purposes, we'll just be using 'es', for a generic Spanish.\n",
    "\n",
    "### Integrating Translations\n",
    "\n",
    "Without translations finished and a basic understanding of language tags we can move on.  Much like we used the `pygettext.py` tool to extract translations, there was another tool it the same folder, `msgfmt.py`.  It takes a `*.po` file as an argument outputs a binary `*.mo` file. Fortunately our `greeting.pot`file just needs to be renamed with the `*.pot` extension.  Once you rename it, we'll need to place in a specified folder for `gettext` to find it.\n",
    "\n",
    "So let's lets create a few new directories. From the workspace, add the following: `locale/es/LC_MESSAGES` and add your newly renamed `greeting.po` file. Note our language tag, `es` in the path. Navagate to this folder and run `msgfmt.py` passing in the new file name sans extension.\n",
    "\n",
    "`\n",
    "python C:\\Users\\$USER\\Anaconda3\\Tools\\i18n\\msgfmt.py greeting\n",
    "`\n",
    "\n",
    "Once you create this you should have two files in the LC_MESSAGES folder:\n",
    "\n",
    "1. greeting.po\n",
    "2. greeting.mo\n",
    "\n",
    "### Switching languages\n",
    "\n",
    "With the final infrastructure in place we can write a short function that will allows us to change between languages.\n",
    "Going back to our greeting.py, we'll write a new function that will allows us to switch between languages.\n"
   ]
  },
  {
   "cell_type": "code",
   "execution_count": null,
   "metadata": {},
   "outputs": [],
   "source": [
    "def select_language(language):\n",
    "    lang = gettext.translation('greeting', localedir='locale', languages=[language], fallback=True)\n",
    "    lang.install()"
   ]
  },
  {
   "cell_type": "markdown",
   "metadata": {},
   "source": [
    "Let's examen the `gettext.translation()` method a little closer. `localdir` is the where our local directory is located in the current workspace. `languages` corresponds to our language tag, in this case it'll be 'es'.  By setting `fallback=True`, if a string requires a translation, but one isn't available for the corresponding language it'll return the hardcoded string. In this case English, even though we didnt' set up an 'en' locale. The following code demonstrates the program language being switched from English to Spanish and back to English. By passing an invalid language tag, it 'fellback' back to English."
   ]
  },
  {
   "cell_type": "code",
   "execution_count": null,
   "metadata": {},
   "outputs": [],
   "source": [
    "import gettext\n",
    "\n",
    "gettext.install('greeting')\n",
    "\n",
    "def greet():\n",
    "    age = 25\n",
    "    print(_('Hi'))\n",
    "    print(_(\"What's up?\"))\n",
    "    print(_('I am %s years old!') % (age))\n",
    "    print('\\n')\n",
    "\n",
    "def select_language(language):\n",
    "    lang = gettext.translation('greeting', localedir='locale', languages=[language], fallback=True)\n",
    "    lang.install()\n",
    "\n",
    "\n",
    "# Default language 'English'.\n",
    "greet()\n",
    "\n",
    "# Change language to Spanish.\n",
    "select_language('es')\n",
    "greet()\n",
    "\n",
    "# Change language to English.\n",
    "select_language('en')\n",
    "greet()"
   ]
  },
  {
   "cell_type": "markdown",
   "metadata": {},
   "source": [
    "```\n",
    "Hi\n",
    "What's up?\n",
    "I am 25 years old!\n",
    "\n",
    "\n",
    "Hola\n",
    "¿Qué tal?\n",
    "¡Tengo 25 años!\n",
    "\n",
    "\n",
    "Hi\n",
    "What's up?\n",
    "I am 25 years old!\n",
    "```"
   ]
  },
  {
   "cell_type": "markdown",
   "metadata": {},
   "source": [
    "### Final Thoughts\n",
    "\n",
    "Great! We successfully internationalized and localized our program for a Spanish Speaking audience. Unfortunately, not all languages are so easy.  Here's one example, a right-to-left (RTL) language Hebrew: ISO code. `he`. Right-to-left that meaning the language is written and read from right to left. I've gone ahead created and translated a new `*.po` file and appropriate locale folder. You can see the [final code]().\n",
    "\n",
    "```\n",
    "#: greeting.py:7\n",
    "msgid \"Hi\"\n",
    "msgstr \"שלום\"\n",
    "\n",
    "#: greeting.py:8\n",
    "msgid \"What's up?\"\n",
    "msgstr \"מה נשמע?\"\n",
    "\n",
    "#: greeting.py:9\n",
    "msgid \"I am %s years old!\"\n",
    "msgstr \"אני בן %s!\"\n",
    "```\n",
    "Compare the translations to the terminal output:\n",
    "[]()\n",
    "\n",
    "At a cursory glance everything may look fine but if you look closer you can see that output from the terminal is backwards! It has rendered a RTL language as left-to-right! If copied and pasted into another space, the same backwards text may render correctly, depending on the rendering engine. \n",
    "\n",
    "In fact, the rendering of the Hebrew in this post will be wrong.  Like English, punctuation like the question mark in Hebrew is at the end of a sentence, so it should be on the left side of the sentence, but notice it's on the right! Note the last sentence also renders correctly, **\"אני בן %s!\"**  It's roughly equivalent of to \"%s years old I am\".\n",
    "\n",
    "Here's what the sentences would like like if rendered correctly\n"
   ]
  }
 ],
 "metadata": {
  "kernelspec": {
   "display_name": "Python 3",
   "language": "python",
   "name": "python3"
  },
  "language_info": {
   "codemirror_mode": {
    "name": "ipython",
    "version": 3
   },
   "file_extension": ".py",
   "mimetype": "text/x-python",
   "name": "python",
   "nbconvert_exporter": "python",
   "pygments_lexer": "ipython3",
   "version": "3.7.3"
  }
 },
 "nbformat": 4,
 "nbformat_minor": 4
}
